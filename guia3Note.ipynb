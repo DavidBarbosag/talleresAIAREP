{
 "cells": [
  {
   "cell_type": "code",
   "execution_count": null,
   "metadata": {},
   "outputs": [
    {
     "name": "stdout",
     "output_type": "stream",
     "text": [
      "Cliente inicializado. Modelo listo para consultas.\n"
     ]
    }
   ],
   "source": [
    "import os\n",
    "from dotenv import load_dotenv\n",
    "from openai import OpenAI\n",
    "\n",
    "load_dotenv()  # Lee el archivo .env\n",
    "client = OpenAI(api_key=os.getenv(\"OPENAI_API_KEY\"))\n",
    "print(\"Cliente inicializado. Modelo listo para consultas.\")"
   ]
  },
  {
   "cell_type": "code",
   "execution_count": 3,
   "metadata": {},
   "outputs": [
    {
     "name": "stdout",
     "output_type": "stream",
     "text": [
      "La inteligencia artificial en la educación se refiere al uso de tecnologías y algoritmos que permiten personalizar el aprendizaje, automatizar tareas administrativas y ofrecer experiencias educativas adaptativas a las necesidades de cada estudiante. Esto incluye herramientas como tutores virtuales, análisis de datos para mejorar el rendimiento académico y sistemas de recomendación de contenido educativo.\n"
     ]
    }
   ],
   "source": [
    "prompt = \"Explica en dos frases qué es la inteligencia artificial en la educación.\"\n",
    "response = client.chat.completions.create(\n",
    "    model=\"gpt-4o-mini\",\n",
    "    messages=[{\"role\": \"user\", \"content\": prompt}],\n",
    "    temperature=0.7  # más creativo que 0.2, menos que 1.0\n",
    ")\n",
    "print(response.choices[0].message.content)"
   ]
  },
  {
   "cell_type": "code",
   "execution_count": 4,
   "metadata": {},
   "outputs": [
    {
     "name": "stdout",
     "output_type": "stream",
     "text": [
      "{\n",
      "  \"operation\": \"explanation\",\n",
      "  \"input\": \"¿Qué es aprendizaje supervisado?\",\n",
      "  \"output\": \"El aprendizaje supervisado es un tipo de aprendizaje automático donde un modelo es entrenado utilizando un conjunto de datos etiquetado. Esto significa que cada ejemplo en el conjunto de datos tiene una entrada y una salida conocida, lo que permite al modelo aprender a predecir la salida a partir de nuevas entradas. Se utiliza comúnmente en tareas como clasificación y regresión.\"\n",
      "}\n",
      "\n",
      "Valid JSON → {'operation': 'explanation', 'input': '¿Qué es aprendizaje supervisado?', 'output': 'El aprendizaje supervisado es un tipo de aprendizaje automático donde un modelo es entrenado utilizando un conjunto de datos etiquetado. Esto significa que cada ejemplo en el conjunto de datos tiene una entrada y una salida conocida, lo que permite al modelo aprender a predecir la salida a partir de nuevas entradas. Se utiliza comúnmente en tareas como clasificación y regresión.'}\n"
     ]
    }
   ],
   "source": [
    "import json\n",
    "\n",
    "query = \"¿Qué es aprendizaje supervisado?\"\n",
    "schema_instruction = (\n",
    "    \"Responde en formato JSON con las claves: operation, input, output. \"\n",
    "    \"operation debe ser 'explanation'; input debe repetir la pregunta; output la explicación clara y breve.\"\n",
    ")\n",
    "response_json = client.chat.completions.create(\n",
    "    model=\"gpt-4o-mini\",\n",
    "    messages=[\n",
    "        {\"role\": \"system\", \"content\": schema_instruction},\n",
    "        {\"role\": \"user\", \"content\": query}\n",
    "    ],\n",
    "    temperature=0.3,       # más determinista para formatos estructurados\n",
    "    max_tokens=300         # suficiente para una explicación breve\n",
    ")\n",
    "text = response_json.choices[0].message.content\n",
    "print(text)\n",
    "\n",
    "# (Opcional) intentar cargar como JSON si el modelo devolvió un objeto válido\n",
    "try:\n",
    "    data = json.loads(text)\n",
    "    print(\"\\nValid JSON →\", data)\n",
    "except json.JSONDecodeError:\n",
    "    print(\"\\nLa salida no es JSON válido literal. Puedes parsearla manualmente o usar validadores/funciones JSON del proveedor.\")"
   ]
  },
  {
   "cell_type": "markdown",
   "metadata": {},
   "source": [
    "## Ejercicios propuestos\n",
    "1. Cambia `temperature` a 0.1, 0.5 y 0.9 y compara el estilo de las respuestas.\n",
    "2. Pide que el modelo responda **siempre en JSON** usando un `system` que lo exija. Verifica si cumple.\n",
    "3. Crea un prompt de tu área (p.ej., *programación*, *arquitectura*, *matemáticas*) que devuelva un JSON con `operation`, `input`, `steps` (lista) y `output`.\n",
    "4. Limita la longitud con `max_tokens` y observa si corta."
   ]
  },
  {
   "cell_type": "markdown",
   "metadata": {},
   "source": [
    "temperature = 0.1 & max tokens = 300"
   ]
  },
  {
   "cell_type": "code",
   "execution_count": 7,
   "metadata": {},
   "outputs": [
    {
     "name": "stdout",
     "output_type": "stream",
     "text": [
      "{\n",
      "  \"operation\": \"explanation\",\n",
      "  \"input\": \"¿Cuales son las claves para disenar una buena arquitectura de software?\",\n",
      "  \"steps\": [\n",
      "    \"Definir claramente los requisitos del sistema y entender las necesidades del usuario.\",\n",
      "    \"Elegir un estilo arquitectónico adecuado (por ejemplo, microservicios, monolito, etc.) que se alinee con los requisitos.\",\n",
      "    \"Asegurar la escalabilidad para que el sistema pueda crecer con el tiempo.\",\n",
      "    \"Implementar principios de diseño como la separación de preocupaciones y la modularidad.\",\n",
      "    \"Considerar la mantenibilidad y la facilidad de actualización del software.\",\n",
      "    \"Incluir medidas de seguridad desde el inicio del diseño.\",\n",
      "    \"Realizar pruebas y revisiones continuas para identificar y corregir problemas.\",\n",
      "    \"Documentar la arquitectura para facilitar la comprensión y el mantenimiento por parte del equipo.\"\n",
      "  ],\n",
      "  \"output\": \"Las claves para diseñar una buena arquitectura de software incluyen definir requisitos claros, elegir el estilo arquitectónico adecuado, asegurar escalabilidad, implementar principios de diseño, considerar mantenibilidad y seguridad, realizar pruebas continuas y documentar la arquitectura.\"\n",
      "}\n",
      "\n",
      "Valid JSON → {'operation': 'explanation', 'input': '¿Cuales son las claves para disenar una buena arquitectura de software?', 'steps': ['Definir claramente los requisitos del sistema y entender las necesidades del usuario.', 'Elegir un estilo arquitectónico adecuado (por ejemplo, microservicios, monolito, etc.) que se alinee con los requisitos.', 'Asegurar la escalabilidad para que el sistema pueda crecer con el tiempo.', 'Implementar principios de diseño como la separación de preocupaciones y la modularidad.', 'Considerar la mantenibilidad y la facilidad de actualización del software.', 'Incluir medidas de seguridad desde el inicio del diseño.', 'Realizar pruebas y revisiones continuas para identificar y corregir problemas.', 'Documentar la arquitectura para facilitar la comprensión y el mantenimiento por parte del equipo.'], 'output': 'Las claves para diseñar una buena arquitectura de software incluyen definir requisitos claros, elegir el estilo arquitectónico adecuado, asegurar escalabilidad, implementar principios de diseño, considerar mantenibilidad y seguridad, realizar pruebas continuas y documentar la arquitectura.'}\n"
     ]
    }
   ],
   "source": [
    "query = \"¿Cuales son las claves para disenar una buena arquitectura de software?\"\n",
    "schema_instruction = (\n",
    "    \"Responde en formato JSON con las claves: operation, input, `steps` (lista), output. \"\n",
    "    \"operation debe ser 'explanation'; input debe repetir la pregunta; output la explicación clara y breve.\"\n",
    "    \"No incluyas texto fuera del JSON. Asegúrate de que el JSON esté bien formado y cerrado correctamente.\"\n",
    ")\n",
    "response_json = client.chat.completions.create(\n",
    "    model=\"gpt-4o-mini\",\n",
    "    messages=[\n",
    "        {\"role\": \"system\", \"content\": schema_instruction},\n",
    "        {\"role\": \"user\", \"content\": query}\n",
    "    ],\n",
    "    temperature=0.1,       # más determinista para formatos estructurados\n",
    "    max_tokens=300         # suficiente para una explicación breve\n",
    ")\n",
    "text = response_json.choices[0].message.content\n",
    "print(text)\n",
    "\n",
    "try:\n",
    "    data = json.loads(text)\n",
    "    print(\"\\nValid JSON →\", data)\n",
    "except json.JSONDecodeError:\n",
    "    print(\"\\nLa salida no es JSON válido literal. Puedes parsearla manualmente o usar validadores/funciones JSON del proveedor.\")"
   ]
  },
  {
   "cell_type": "markdown",
   "metadata": {},
   "source": [
    "temperature = 0.5 & max tokens = 300"
   ]
  },
  {
   "cell_type": "code",
   "execution_count": 9,
   "metadata": {},
   "outputs": [
    {
     "name": "stdout",
     "output_type": "stream",
     "text": [
      "{\n",
      "  \"operation\": \"explanation\",\n",
      "  \"input\": \"¿Cuales son las claves para disenar una buena arquitectura de software?\",\n",
      "  \"steps\": [\n",
      "    \"Definir claramente los requisitos del sistema y las necesidades del usuario.\",\n",
      "    \"Elegir un estilo arquitectónico adecuado (por ejemplo, microservicios, monolito, etc.).\",\n",
      "    \"Asegurar la escalabilidad y flexibilidad del sistema para adaptarse a futuros cambios.\",\n",
      "    \"Implementar principios de diseño como separación de preocupaciones y reutilización de componentes.\",\n",
      "    \"Considerar la seguridad desde el inicio del diseño.\",\n",
      "    \"Realizar una buena gestión de la calidad del código y las pruebas.\",\n",
      "    \"Documentar la arquitectura de manera clara para facilitar su comprensión y mantenimiento.\"\n",
      "  ],\n",
      "  \"output\": \"Las claves para diseñar una buena arquitectura de software incluyen definir requisitos claros, elegir un estilo arquitectónico adecuado, asegurar escalabilidad y flexibilidad, implementar principios de diseño, considerar la seguridad,\n",
      "\n",
      "La salida no es JSON válido literal. Puedes parsearla manualmente o usar validadores/funciones JSON del proveedor.\n"
     ]
    }
   ],
   "source": [
    "query = \"¿Cuales son las claves para disenar una buena arquitectura de software?\"\n",
    "schema_instruction = (\n",
    "    \"Responde en formato JSON con las claves: operation, input, `steps` (lista), output. \"\n",
    "    \"operation debe ser 'explanation'; input debe repetir la pregunta; output la explicación clara y breve.\"\n",
    "    \"No incluyas texto fuera del JSON. Asegúrate de que el JSON esté bien formado y cerrado correctamente.\"\n",
    ")\n",
    "response_json = client.chat.completions.create(\n",
    "    model=\"gpt-4o-mini\",\n",
    "    messages=[\n",
    "        {\"role\": \"system\", \"content\": schema_instruction},\n",
    "        {\"role\": \"user\", \"content\": query}\n",
    "    ],\n",
    "    temperature=0.5,       # más determinista para formatos estructurados\n",
    "    max_tokens=200         # suficiente para una explicación breve\n",
    ")\n",
    "text = response_json.choices[0].message.content\n",
    "print(text)\n",
    "\n",
    "try:\n",
    "    data = json.loads(text)\n",
    "    print(\"\\nValid JSON →\", data)\n",
    "except json.JSONDecodeError:\n",
    "    print(\"\\nLa salida no es JSON válido literal. Puedes parsearla manualmente o usar validadores/funciones JSON del proveedor.\")"
   ]
  },
  {
   "cell_type": "markdown",
   "metadata": {},
   "source": [
    "temperature = 0.9 & max tokens = 300"
   ]
  },
  {
   "cell_type": "code",
   "execution_count": 10,
   "metadata": {},
   "outputs": [
    {
     "name": "stdout",
     "output_type": "stream",
     "text": [
      "{\n",
      "  \"operation\": \"explanation\",\n",
      "  \"input\": \"¿Cuales son las claves para disenar una buena arquitectura de software?\",\n",
      "  \"steps\": [\n",
      "    \"Identificar los requerimientos funcionales y no funcionales del sistema.\",\n",
      "    \"Elegir los patrones arquitectónicos adecuados que se alineen con los requerimientos.\",\n",
      "    \"Asegurar la escalabilidad para permitir el crecimiento del sistema en el futuro.\",\n",
      "    \"Facilitar la mantenibilidad mediante un diseño modular y una documentación clara.\",\n",
      "    \"Implementar la separación de preocupaciones para desacoplar los componentes y mejorar la organización.\",\n",
      "    \"Considerar la seguridad desde el inicio del diseño arquitectónico.\",\n",
      "    \"Planificar pruebas y validación para verificar que la arquitectura cumpla con los estándares requeridos.\"\n",
      "  ],\n",
      "  \"output\": \"Para diseñar una buena arquitectura de software, es fundamental entender los requerimientos del sistema, elegir patrones arquitectónicos adecuados, asegurar la escalabilidad, facilitar la mantenibilidad, implementar\n",
      "\n",
      "La salida no es JSON válido literal. Puedes parsearla manualmente o usar validadores/funciones JSON del proveedor.\n"
     ]
    }
   ],
   "source": [
    "query = \"¿Cuales son las claves para disenar una buena arquitectura de software?\"\n",
    "schema_instruction = (\n",
    "    \"Responde en formato JSON con las claves: operation, input, `steps` (lista), output. \"\n",
    "    \"operation debe ser 'explanation'; input debe repetir la pregunta; output la explicación clara y breve.\"\n",
    "    \"No incluyas texto fuera del JSON. Asegúrate de que el JSON esté bien formado y cerrado correctamente.\"\n",
    ")\n",
    "response_json = client.chat.completions.create(\n",
    "    model=\"gpt-4o-mini\",\n",
    "    messages=[\n",
    "        {\"role\": \"system\", \"content\": schema_instruction},\n",
    "        {\"role\": \"user\", \"content\": query}\n",
    "    ],\n",
    "    temperature=0.9,       # más determinista para formatos estructurados\n",
    "    max_tokens=200         # suficiente para una explicación breve\n",
    ")\n",
    "text = response_json.choices[0].message.content\n",
    "print(text)\n",
    "\n",
    "try:\n",
    "    data = json.loads(text)\n",
    "    print(\"\\nValid JSON →\", data)\n",
    "except json.JSONDecodeError:\n",
    "    print(\"\\nLa salida no es JSON válido literal. Puedes parsearla manualmente o usar validadores/funciones JSON del proveedor.\")"
   ]
  }
 ],
 "metadata": {
  "kernelspec": {
   "display_name": ".venv",
   "language": "python",
   "name": "python3"
  },
  "language_info": {
   "codemirror_mode": {
    "name": "ipython",
    "version": 3
   },
   "file_extension": ".py",
   "mimetype": "text/x-python",
   "name": "python",
   "nbconvert_exporter": "python",
   "pygments_lexer": "ipython3",
   "version": "3.11.0"
  }
 },
 "nbformat": 4,
 "nbformat_minor": 2
}
